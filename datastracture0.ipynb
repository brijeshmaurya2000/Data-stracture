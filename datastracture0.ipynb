{
  "nbformat": 4,
  "nbformat_minor": 0,
  "metadata": {
    "colab": {
      "provenance": []
    },
    "kernelspec": {
      "name": "python3",
      "display_name": "Python 3"
    },
    "language_info": {
      "name": "python"
    }
  },
  "cells": [
    {
      "cell_type": "code",
      "execution_count": null,
      "metadata": {
        "id": "cUei-zpTcLOP"
      },
      "outputs": [],
      "source": []
    },
    {
      "cell_type": "markdown",
      "source": [
        "1. What are data structures, and why are they important?\n",
        "\n",
        "   >>In this way we can store and organize data so it can be used efficiently.\n",
        "   \n",
        "   >>Data stracture in python helps manage diffrent type of data eseily."
      ],
      "metadata": {
        "id": "eUuvukzOcxLZ"
      }
    },
    {
      "cell_type": "markdown",
      "source": [
        "2 .Explain the difference between mutable and immutable data types with examples?\n",
        "\n",
        "    >>which data type we can change one data type to another data type is called mutable\n",
        "    >>list"
      ],
      "metadata": {
        "id": "4LUuNpwbemiW"
      }
    },
    {
      "cell_type": "code",
      "source": [
        "list_1=[1,2,3,\"mango\",\"raja\",3.5]\n",
        "list_1[0]=\"manoj\""
      ],
      "metadata": {
        "id": "F7WuNXvsfbGP"
      },
      "execution_count": null,
      "outputs": []
    },
    {
      "cell_type": "code",
      "source": [
        "list_1"
      ],
      "metadata": {
        "colab": {
          "base_uri": "https://localhost:8080/"
        },
        "id": "2WAyw6CzfvHQ",
        "outputId": "83923e28-d459-48b9-8897-16bab3faa529"
      },
      "execution_count": null,
      "outputs": [
        {
          "output_type": "execute_result",
          "data": {
            "text/plain": [
              "['manoj', 2, 3, 'mango', 'raja', 3.5]"
            ]
          },
          "metadata": {},
          "execution_count": 2
        }
      ]
    },
    {
      "cell_type": "markdown",
      "source": [
        "which data type we can not change onr data type to aother data type is clled immutable data type.\n",
        ">>tuple"
      ],
      "metadata": {
        "id": "RNsRBznugLHH"
      }
    },
    {
      "cell_type": "code",
      "source": [
        "my_tuple=(\"raja\",1,2,3,\"abhishek\")"
      ],
      "metadata": {
        "id": "4RYtemyrgJSl"
      },
      "execution_count": null,
      "outputs": []
    },
    {
      "cell_type": "code",
      "source": [
        "my_tuple[3]=\"sanjay\"#tuple is immutable"
      ],
      "metadata": {
        "colab": {
          "base_uri": "https://localhost:8080/",
          "height": 141
        },
        "id": "P4evlAZggfJk",
        "outputId": "dcbcdf93-a075-4f60-fd3d-228296c18c22"
      },
      "execution_count": null,
      "outputs": [
        {
          "output_type": "error",
          "ename": "TypeError",
          "evalue": "'tuple' object does not support item assignment",
          "traceback": [
            "\u001b[0;31m---------------------------------------------------------------------------\u001b[0m",
            "\u001b[0;31mTypeError\u001b[0m                                 Traceback (most recent call last)",
            "\u001b[0;32m/tmp/ipython-input-6-3731169144.py\u001b[0m in \u001b[0;36m<cell line: 0>\u001b[0;34m()\u001b[0m\n\u001b[0;32m----> 1\u001b[0;31m \u001b[0mmy_tuple\u001b[0m\u001b[0;34m[\u001b[0m\u001b[0;36m3\u001b[0m\u001b[0;34m]\u001b[0m\u001b[0;34m=\u001b[0m\u001b[0;34m\"sanjay\"\u001b[0m\u001b[0;34m\u001b[0m\u001b[0;34m\u001b[0m\u001b[0m\n\u001b[0m",
            "\u001b[0;31mTypeError\u001b[0m: 'tuple' object does not support item assignment"
          ]
        }
      ]
    },
    {
      "cell_type": "markdown",
      "source": [
        "3. What are the main differences between lists and tuples in Python?\n",
        "\n",
        "    >>list\n",
        "      .Mutale\n",
        "      .Less faster then the tuple\n",
        "      .List ofers appends,remove and many more methoad\n",
        "      .It's define by []\n",
        "      .It's support hetrogenous data type\n",
        "\n",
        "    >>tuple\n",
        "      .immutable\n",
        "      .faster then the list\n",
        "      .We can not change element\n",
        "      .Less memory\n",
        "\n"
      ],
      "metadata": {
        "id": "Ulj6caiWhV3z"
      }
    },
    {
      "cell_type": "markdown",
      "source": [
        "4. Describe how dictionaries store data?\n",
        "\n",
        "   >>Dictionary perform key value pairs,each item has a unique key\n",
        "   we can change value\n",
        "\n",
        "  "
      ],
      "metadata": {
        "id": "gTe-yI8djfjH"
      }
    },
    {
      "cell_type": "code",
      "source": [
        "my_dict={\"name\":\"brijesh maurya\",\"age\":20,\"adress\":\"akbarpur\"}"
      ],
      "metadata": {
        "id": "mYRryJX9mUIu"
      },
      "execution_count": 8,
      "outputs": []
    },
    {
      "cell_type": "code",
      "source": [
        "my_dict"
      ],
      "metadata": {
        "id": "MZEAA4zAmnog",
        "colab": {
          "base_uri": "https://localhost:8080/"
        },
        "outputId": "d742f406-23d7-4a48-9bf6-4b0b552c9437"
      },
      "execution_count": 11,
      "outputs": [
        {
          "output_type": "execute_result",
          "data": {
            "text/plain": [
              "{'name': 'brijesh maurya', 'age': 20, 'adress': 'akbarpur', 0: 'kiran'}"
            ]
          },
          "metadata": {},
          "execution_count": 11
        }
      ]
    },
    {
      "cell_type": "markdown",
      "source": [
        "5. Why might you use a set instead of a list in Python?\n",
        "\n",
        "    >>Set is not allow duplicate value,set automatecally remaove the duplicate values.\n",
        "    >>list allow the duplicate values.\n",
        "    >>Support mathmaticals oprations."
      ],
      "metadata": {
        "id": "zuKXsxBRtqPf"
      }
    },
    {
      "cell_type": "markdown",
      "source": [
        "6. What is a string in Python, and how is it different from a list?\n",
        "\n",
        "    >>String use in python is a sequence of chractors used to store and represent text.\n",
        "    >>string is a mutable\n",
        "    >list is hetrogenous data type and string is a homogenoue data type ."
      ],
      "metadata": {
        "id": "_oSv-Txovmmg"
      }
    },
    {
      "cell_type": "markdown",
      "source": [
        "9. Can lists contain different data types in Python.\n",
        "\n",
        "   >>list cantain all data type like as string,boolen,complex,etc"
      ],
      "metadata": {
        "id": "KKGs7ST0wvNS"
      }
    },
    {
      "cell_type": "code",
      "source": [
        "my_list=[\"raja\",2,3,4,3.6,True,3+3.8j]"
      ],
      "metadata": {
        "id": "CC4iwdYsxBPV"
      },
      "execution_count": 12,
      "outputs": []
    },
    {
      "cell_type": "code",
      "source": [
        "my_list"
      ],
      "metadata": {
        "colab": {
          "base_uri": "https://localhost:8080/"
        },
        "id": "ihaxWnI7xKyM",
        "outputId": "c907b0c4-6b11-41ad-9114-3aa3cadeff81"
      },
      "execution_count": 13,
      "outputs": [
        {
          "output_type": "execute_result",
          "data": {
            "text/plain": [
              "['raja', 2, 3, 4, 3.6, True, (3+3.8j)]"
            ]
          },
          "metadata": {},
          "execution_count": 13
        }
      ]
    },
    {
      "cell_type": "markdown",
      "source": [
        "10. Explain why strings are immutable in Python?\n",
        "\n",
        "    >>string are use where there no need to change the data type\n",
        "    >>memory eficiency\n",
        "    >>safe to use as dictionsry keys\n",
        "    "
      ],
      "metadata": {
        "id": "cDhzmYz6xOmR"
      }
    },
    {
      "cell_type": "markdown",
      "source": [
        "11. What advantages do dictionaries offer over lists for certain tasks?\n",
        "    >>Fast lookup\n",
        "    >>Meningfull kay\n",
        "    >>Better for structure"
      ],
      "metadata": {
        "id": "bfDBcW4zyGdD"
      }
    },
    {
      "cell_type": "markdown",
      "source": [
        "13. How do sets handle duplicate values in Python?\n",
        "\n",
        "     >>Sets in oython automatically remove the duplicate values\n",
        "     if you try to add duplicate value, python will be ignored it"
      ],
      "metadata": {
        "id": "ssECco2Ty93o"
      }
    },
    {
      "cell_type": "markdown",
      "source": [
        "14. How does the “in” keyword work differently for lists and dictionaries?\n",
        "\n",
        "    >>for list check in value"
      ],
      "metadata": {
        "id": "4UuO858rzxg4"
      }
    },
    {
      "cell_type": "code",
      "source": [
        "my_list=[\"raja\",1,3,4,6]"
      ],
      "metadata": {
        "id": "VxGbTyokxNX2"
      },
      "execution_count": 14,
      "outputs": []
    },
    {
      "cell_type": "code",
      "source": [
        "print(3 in my_list)"
      ],
      "metadata": {
        "colab": {
          "base_uri": "https://localhost:8080/"
        },
        "id": "fm0vB4x00VLH",
        "outputId": "b39534a2-4493-4b93-96cd-79b377be7c27"
      },
      "execution_count": 15,
      "outputs": [
        {
          "output_type": "stream",
          "name": "stdout",
          "text": [
            "True\n"
          ]
        }
      ]
    },
    {
      "cell_type": "markdown",
      "source": [
        "for dict use to check key not values"
      ],
      "metadata": {
        "id": "7AHo0FI90nGA"
      }
    },
    {
      "cell_type": "code",
      "source": [
        "my_dict={'a':20,'b':300}"
      ],
      "metadata": {
        "id": "gKgwh60B0ek-"
      },
      "execution_count": 23,
      "outputs": []
    },
    {
      "cell_type": "code",
      "source": [
        "print('a' in my_dict)"
      ],
      "metadata": {
        "colab": {
          "base_uri": "https://localhost:8080/"
        },
        "id": "_U_rJG9X0_MX",
        "outputId": "fc1408fe-2113-4916-d419-8c3c53fadd8e"
      },
      "execution_count": 25,
      "outputs": [
        {
          "output_type": "stream",
          "name": "stdout",
          "text": [
            "True\n"
          ]
        }
      ]
    },
    {
      "cell_type": "markdown",
      "source": [
        "15. Can you modify the elements of a tuple? Explain why or why notP\n",
        "\n",
        "    >>we can not change element of tuple.\n",
        "    >>because tuple is a immutable data type."
      ],
      "metadata": {
        "id": "aimHi_HO1zrr"
      }
    },
    {
      "cell_type": "markdown",
      "source": [
        "16.  What is a nested dictionary, and give an example of its use case?\n",
        "\n",
        "    >>nested dictionary means a dictonary inside another dictionaary."
      ],
      "metadata": {
        "id": "m_KdnBou2v71"
      }
    },
    {
      "cell_type": "code",
      "source": [
        "students={\"clsss11\":{\"name\":\"rajan\",\"age\":23},\"class12\":{\"name\":\"sweta\",\"age\":21}}"
      ],
      "metadata": {
        "id": "YORZJGZx1ta2"
      },
      "execution_count": 26,
      "outputs": []
    },
    {
      "cell_type": "code",
      "source": [
        "print(students)"
      ],
      "metadata": {
        "colab": {
          "base_uri": "https://localhost:8080/"
        },
        "id": "WgOyMcoM4Hci",
        "outputId": "18f4299c-25cc-4446-f9f6-1223b776ca5c"
      },
      "execution_count": 27,
      "outputs": [
        {
          "output_type": "stream",
          "name": "stdout",
          "text": [
            "{'clsss11': {'name': 'rajan', 'age': 23}, 'class12': {'name': 'sweta', 'age': 21}}\n"
          ]
        }
      ]
    },
    {
      "cell_type": "code",
      "source": [],
      "metadata": {
        "id": "LPIhhauQ4KrN"
      },
      "execution_count": null,
      "outputs": []
    },
    {
      "cell_type": "markdown",
      "source": [
        "18. In what situations are lists preferred over dictionaries3\n",
        "\n",
        "    >>list are good when we are dealing with simple sequential data\n",
        "     list maintane insertion order and indexing is simple.\n",
        "     >>when we no need to key value.\n",
        "     >>when we need to duplicate values."
      ],
      "metadata": {
        "id": "x_ctfV6j4MD-"
      }
    },
    {
      "cell_type": "markdown",
      "source": [
        "20. Explain the difference between a list and a dictionary in terms of data retrieval?\n",
        "\n",
        "    >>lists are offers indexing in term of data retrieval.\n",
        "    >>slower\n",
        "\n",
        "    >>dictionary are offers key (name/table) in term of data retrieval.\n",
        "    >>fast lookup"
      ],
      "metadata": {
        "id": "uG5QrJrI5-Mg"
      }
    },
    {
      "cell_type": "markdown",
      "source": [
        "                                     **practical question**"
      ],
      "metadata": {
        "id": "w3ikca3P7MAY"
      }
    },
    {
      "cell_type": "code",
      "source": [
        "#1. Write a code to create a string with your name and print it\n",
        "name=\"brijesh maurya\""
      ],
      "metadata": {
        "id": "J_vw7HeY7VwF"
      },
      "execution_count": 28,
      "outputs": []
    },
    {
      "cell_type": "code",
      "source": [
        "print(\"my name:\",name)"
      ],
      "metadata": {
        "colab": {
          "base_uri": "https://localhost:8080/"
        },
        "id": "paVPSGWP7vb-",
        "outputId": "cc51671a-0890-4a53-977a-f8e734388957"
      },
      "execution_count": 30,
      "outputs": [
        {
          "output_type": "stream",
          "name": "stdout",
          "text": [
            "my name: brijesh maurya\n"
          ]
        }
      ]
    },
    {
      "cell_type": "code",
      "source": [
        "#2. Write a code to find the length of the string \"Hello World\"\n",
        "a=\"Hello World\""
      ],
      "metadata": {
        "id": "0NvwzRlR71DV"
      },
      "execution_count": 31,
      "outputs": []
    },
    {
      "cell_type": "code",
      "source": [
        "len(a)"
      ],
      "metadata": {
        "colab": {
          "base_uri": "https://localhost:8080/"
        },
        "id": "T8Xgl9ZB8slM",
        "outputId": "8bb62de9-6669-4e36-b18a-8dd9b73273cc"
      },
      "execution_count": 33,
      "outputs": [
        {
          "output_type": "execute_result",
          "data": {
            "text/plain": [
              "11"
            ]
          },
          "metadata": {},
          "execution_count": 33
        }
      ]
    },
    {
      "cell_type": "markdown",
      "source": [],
      "metadata": {
        "id": "w6CosCbI9Bu0"
      }
    },
    {
      "cell_type": "code",
      "source": [
        "#3. Write a code to slice the first 3 characters from the string \"Python Programming\"\n",
        "str_1=\"python programming\""
      ],
      "metadata": {
        "id": "orPjg42-8vRT"
      },
      "execution_count": 36,
      "outputs": []
    },
    {
      "cell_type": "code",
      "source": [
        "slice_str1=str_1[0:3]"
      ],
      "metadata": {
        "id": "izxaD0yS9izx"
      },
      "execution_count": 38,
      "outputs": []
    },
    {
      "cell_type": "code",
      "source": [
        "print(slice_str1)"
      ],
      "metadata": {
        "colab": {
          "base_uri": "https://localhost:8080/"
        },
        "id": "lUE4XFA89u8t",
        "outputId": "77219602-9ffc-4dd3-c82b-ea0bfc863852"
      },
      "execution_count": 39,
      "outputs": [
        {
          "output_type": "stream",
          "name": "stdout",
          "text": [
            "pyt\n"
          ]
        }
      ]
    },
    {
      "cell_type": "code",
      "source": [
        "#4. Write a code to convert the string \"hello\" to uppercase?\n",
        "name=\"hello\""
      ],
      "metadata": {
        "id": "bW-UlAhv96hn"
      },
      "execution_count": 40,
      "outputs": []
    },
    {
      "cell_type": "code",
      "source": [
        "name.upper()"
      ],
      "metadata": {
        "colab": {
          "base_uri": "https://localhost:8080/",
          "height": 35
        },
        "id": "cW5CP-RR-QBk",
        "outputId": "7d8a3cd8-493b-4e24-ca26-80e9722e0209"
      },
      "execution_count": 42,
      "outputs": [
        {
          "output_type": "execute_result",
          "data": {
            "text/plain": [
              "'HELLO'"
            ],
            "application/vnd.google.colaboratory.intrinsic+json": {
              "type": "string"
            }
          },
          "metadata": {},
          "execution_count": 42
        }
      ]
    },
    {
      "cell_type": "code",
      "source": [
        "#5. Write a code to replace the word \"apple\" with \"orange\" in the string \"I like apple\"\n",
        "raju=\"I like apple\""
      ],
      "metadata": {
        "id": "20z0jLnz-Ukh"
      },
      "execution_count": 51,
      "outputs": []
    },
    {
      "cell_type": "code",
      "source": [
        "mohan=raju.replace(\"apple\",\"orange\")"
      ],
      "metadata": {
        "id": "va34YhN2-qMg"
      },
      "execution_count": 52,
      "outputs": []
    },
    {
      "cell_type": "code",
      "source": [
        "print(mohan)"
      ],
      "metadata": {
        "colab": {
          "base_uri": "https://localhost:8080/"
        },
        "id": "_YmBlfyS-4J_",
        "outputId": "4ad1ccbe-9869-43d0-a251-fc926205c210"
      },
      "execution_count": 53,
      "outputs": [
        {
          "output_type": "stream",
          "name": "stdout",
          "text": [
            "I like orange\n"
          ]
        }
      ]
    },
    {
      "cell_type": "code",
      "source": [
        "#6. Write a code to create a list with numbers 1 to 5 and print it\n",
        "list_1=[1,2,3,4,5]"
      ],
      "metadata": {
        "id": "-agY0o-Z_r_G"
      },
      "execution_count": 55,
      "outputs": []
    },
    {
      "cell_type": "code",
      "source": [
        "print(list_1)"
      ],
      "metadata": {
        "colab": {
          "base_uri": "https://localhost:8080/"
        },
        "id": "P_ltlB5O_57Y",
        "outputId": "366f619a-faee-441e-98aa-2f76b98f4d49"
      },
      "execution_count": 56,
      "outputs": [
        {
          "output_type": "stream",
          "name": "stdout",
          "text": [
            "[1, 2, 3, 4, 5]\n"
          ]
        }
      ]
    },
    {
      "cell_type": "code",
      "source": [
        "#7. Write a code to append the number 10 to the list [1, 2, 3, 4]\n",
        "list_1=[1,2,3,4]"
      ],
      "metadata": {
        "id": "azQtnX6A__4i"
      },
      "execution_count": 57,
      "outputs": []
    },
    {
      "cell_type": "code",
      "source": [
        "list_1.append(10)"
      ],
      "metadata": {
        "id": "KnbVPAebAMri"
      },
      "execution_count": 61,
      "outputs": []
    },
    {
      "cell_type": "code",
      "source": [
        "print(list_1)"
      ],
      "metadata": {
        "colab": {
          "base_uri": "https://localhost:8080/"
        },
        "id": "StElduziAW9V",
        "outputId": "a68277ae-2009-4322-a00c-c6bd18cc038d"
      },
      "execution_count": 62,
      "outputs": [
        {
          "output_type": "stream",
          "name": "stdout",
          "text": [
            "[1, 2, 3, 4, 10]\n"
          ]
        }
      ]
    },
    {
      "cell_type": "code",
      "source": [
        "#8. Write a code to remove the number 3 from the list [1, 2, 3, 4, 5]\n",
        "list_1=[1,2,3,4,5]"
      ],
      "metadata": {
        "id": "R_9zV999A6PA"
      },
      "execution_count": 63,
      "outputs": []
    },
    {
      "cell_type": "code",
      "source": [
        "list_1.remove(3)"
      ],
      "metadata": {
        "id": "Vn-s2HkQBIuu"
      },
      "execution_count": 64,
      "outputs": []
    },
    {
      "cell_type": "code",
      "source": [
        "print(list_1)"
      ],
      "metadata": {
        "colab": {
          "base_uri": "https://localhost:8080/"
        },
        "id": "WveAQBe_BNqn",
        "outputId": "df5868ae-7a91-4cf8-ba50-da4bcc1cee75"
      },
      "execution_count": 65,
      "outputs": [
        {
          "output_type": "stream",
          "name": "stdout",
          "text": [
            "[1, 2, 4, 5]\n"
          ]
        }
      ]
    },
    {
      "cell_type": "code",
      "source": [
        "#9. Write a code to access the second element in the list ['a', 'b', 'c', 'd']\n",
        "list_1=['a','b','c','d']"
      ],
      "metadata": {
        "id": "aoE5ZkDiBQDe"
      },
      "execution_count": 66,
      "outputs": []
    },
    {
      "cell_type": "code",
      "source": [
        "list_1[1]"
      ],
      "metadata": {
        "colab": {
          "base_uri": "https://localhost:8080/",
          "height": 35
        },
        "id": "33aLmq0QBnO2",
        "outputId": "a5d89745-d47d-40a9-a669-765e3b091149"
      },
      "execution_count": 67,
      "outputs": [
        {
          "output_type": "execute_result",
          "data": {
            "text/plain": [
              "'b'"
            ],
            "application/vnd.google.colaboratory.intrinsic+json": {
              "type": "string"
            }
          },
          "metadata": {},
          "execution_count": 67
        }
      ]
    },
    {
      "cell_type": "code",
      "source": [
        "#10. Write a code to reverse the list [10, 20, 30, 40, 50]\n",
        "numbers=[10,20,30,40,50,]"
      ],
      "metadata": {
        "id": "pCD2M1bQBqg2"
      },
      "execution_count": 68,
      "outputs": []
    },
    {
      "cell_type": "code",
      "source": [
        "numbers.reverse()"
      ],
      "metadata": {
        "id": "iJMCT21oCFgC"
      },
      "execution_count": 70,
      "outputs": []
    },
    {
      "cell_type": "code",
      "source": [
        "print(numbers)"
      ],
      "metadata": {
        "colab": {
          "base_uri": "https://localhost:8080/"
        },
        "id": "SryGOvRWCIKy",
        "outputId": "2f8e560e-aea4-4492-e0fd-ad0c152f6764"
      },
      "execution_count": 71,
      "outputs": [
        {
          "output_type": "stream",
          "name": "stdout",
          "text": [
            "[50, 40, 30, 20, 10]\n"
          ]
        }
      ]
    },
    {
      "cell_type": "code",
      "source": [
        "#11. Write a code to create a tuple with the elements 100, 200, 300 and print it.\n",
        "my_tuple=(100,200,300)"
      ],
      "metadata": {
        "id": "nGJyV1xlCP-1"
      },
      "execution_count": 72,
      "outputs": []
    },
    {
      "cell_type": "code",
      "source": [
        "print(my_tuple)"
      ],
      "metadata": {
        "colab": {
          "base_uri": "https://localhost:8080/"
        },
        "id": "69FpvokOCi3m",
        "outputId": "909b3827-242b-4f17-bc59-662d19dad5c5"
      },
      "execution_count": 73,
      "outputs": [
        {
          "output_type": "stream",
          "name": "stdout",
          "text": [
            "(100, 200, 300)\n"
          ]
        }
      ]
    },
    {
      "cell_type": "code",
      "source": [
        "type(my_tuple)"
      ],
      "metadata": {
        "colab": {
          "base_uri": "https://localhost:8080/"
        },
        "id": "bro_iqvjCmRf",
        "outputId": "c57d2817-f996-4a9a-9170-10d47e3ad02d"
      },
      "execution_count": 74,
      "outputs": [
        {
          "output_type": "execute_result",
          "data": {
            "text/plain": [
              "tuple"
            ]
          },
          "metadata": {},
          "execution_count": 74
        }
      ]
    },
    {
      "cell_type": "code",
      "source": [
        "#12. Write a code to access the second-to-last element of the tuple ('red', 'green', 'blue', 'yellow').\n",
        "my_tuple= ('red', 'green', 'blue', 'yellow')"
      ],
      "metadata": {
        "id": "iF10vSPsCp7U"
      },
      "execution_count": 75,
      "outputs": []
    },
    {
      "cell_type": "code",
      "source": [
        "second_last=my_tuple[-2]"
      ],
      "metadata": {
        "id": "Wk1gBnvlC-x0"
      },
      "execution_count": 80,
      "outputs": []
    },
    {
      "cell_type": "code",
      "source": [
        "print(\"second last:\",second_last)"
      ],
      "metadata": {
        "colab": {
          "base_uri": "https://localhost:8080/"
        },
        "id": "vJkjLkCQDGZv",
        "outputId": "ffa44521-e52a-4011-e38f-2bf675b87e1f"
      },
      "execution_count": 81,
      "outputs": [
        {
          "output_type": "stream",
          "name": "stdout",
          "text": [
            "second last: blue\n"
          ]
        }
      ]
    },
    {
      "cell_type": "code",
      "source": [
        "#13.# 13. Write a code to find the minimum number in the tuple (10, 20, 5, 15).\n",
        "numbers = (10, 20, 5, 15)\n",
        "minimum_number = min(numbers)\n",
        "print(\"The minimum number in the tuple is:\", minimum_number)\n"
      ],
      "metadata": {
        "colab": {
          "base_uri": "https://localhost:8080/"
        },
        "id": "Jrqqa--qDx4N",
        "outputId": "c539f1ad-3a01-4516-851c-6d967410ac08"
      },
      "execution_count": 82,
      "outputs": [
        {
          "output_type": "stream",
          "name": "stdout",
          "text": [
            "The minimum number in the tuple is: 5\n"
          ]
        }
      ]
    },
    {
      "cell_type": "code",
      "source": [
        "#14. Write a code to find the index of the element \"cat\" in the tuple ('dog', 'cat', 'rabbit').\n",
        "animals = ('dog', 'cat', 'rabbit')\n",
        "index_of_cat = animals.index('cat')\n",
        "print(\"The index of 'cat' is:\", index_of_cat)\n"
      ],
      "metadata": {
        "colab": {
          "base_uri": "https://localhost:8080/"
        },
        "id": "AFwrAxsqEim_",
        "outputId": "7948a0de-b8eb-42c8-8766-0915b67b42ee"
      },
      "execution_count": 83,
      "outputs": [
        {
          "output_type": "stream",
          "name": "stdout",
          "text": [
            "The index of 'cat' is: 1\n"
          ]
        }
      ]
    },
    {
      "cell_type": "code",
      "source": [
        "#15. Write a code to create a tuple containing three different fruits and check if \"kiwi\" is in it.\n",
        "fruits = ('apple', 'banana', 'orange','kiwi')\n",
        "\n",
        "if 'kiwi' in fruits:\n",
        "    print(\"'kiwi' is in the tuple.\")\n",
        "else:\n",
        "    print(\"'kiwi' is not in the tuple.\")\n"
      ],
      "metadata": {
        "colab": {
          "base_uri": "https://localhost:8080/"
        },
        "id": "BdALjxPeFk8O",
        "outputId": "52269c34-5bd1-4caa-b5f7-ad0359da58fa"
      },
      "execution_count": 85,
      "outputs": [
        {
          "output_type": "stream",
          "name": "stdout",
          "text": [
            "'kiwi' is in the tuple.\n"
          ]
        }
      ]
    },
    {
      "cell_type": "code",
      "source": [
        "#16. Write a code to create a set with the elements 'a', 'b', 'c' and print it.\n",
        "set_1= {'a', 'b', 'c'}\n"
      ],
      "metadata": {
        "id": "zbTjML7iF6FA"
      },
      "execution_count": 87,
      "outputs": []
    },
    {
      "cell_type": "code",
      "source": [
        "print(set_1)"
      ],
      "metadata": {
        "colab": {
          "base_uri": "https://localhost:8080/"
        },
        "id": "XJmJKgvtGOFZ",
        "outputId": "b25970a6-4c2c-491d-b8e0-d3df08099456"
      },
      "execution_count": 88,
      "outputs": [
        {
          "output_type": "stream",
          "name": "stdout",
          "text": [
            "{'b', 'c', 'a'}\n"
          ]
        }
      ]
    },
    {
      "cell_type": "code",
      "source": [
        "type(set_1)"
      ],
      "metadata": {
        "colab": {
          "base_uri": "https://localhost:8080/"
        },
        "id": "YfFZf0l3GWDc",
        "outputId": "83b2b514-19b7-424d-8196-1258f2300403"
      },
      "execution_count": 89,
      "outputs": [
        {
          "output_type": "execute_result",
          "data": {
            "text/plain": [
              "set"
            ]
          },
          "metadata": {},
          "execution_count": 89
        }
      ]
    },
    {
      "cell_type": "code",
      "source": [
        "#17. Write a code to clear all elements from the set {1, 2, 3, 4, 5}.\n",
        "\n",
        "my_set = {1, 2, 3,}\n",
        "my_set.clear()\n",
        "print(\"The set after clearing:\", my_set)\n"
      ],
      "metadata": {
        "colab": {
          "base_uri": "https://localhost:8080/"
        },
        "id": "ZOTGNQmBGZdc",
        "outputId": "f5fdc3d6-3c66-4776-d8d5-7f6d61ad553a"
      },
      "execution_count": 91,
      "outputs": [
        {
          "output_type": "stream",
          "name": "stdout",
          "text": [
            "The set after clearing: set()\n"
          ]
        }
      ]
    },
    {
      "cell_type": "code",
      "source": [
        "#18. Write a code to remove the element 4 from the set {1, 2, 3, 4}\n",
        "my_set = {1, 2, 3, 4}\n",
        "my_set.remove(4)\n",
        "print(\"The set after removing 4:\", my_set)\n"
      ],
      "metadata": {
        "colab": {
          "base_uri": "https://localhost:8080/"
        },
        "id": "ud8nZi5iGxm2",
        "outputId": "71d0e109-7b18-43ff-91c3-b3720bda488c"
      },
      "execution_count": 92,
      "outputs": [
        {
          "output_type": "stream",
          "name": "stdout",
          "text": [
            "The set after removing 4: {1, 2, 3}\n"
          ]
        }
      ]
    },
    {
      "cell_type": "code",
      "source": [
        "#19. Write a code to find the union of two sets {1, 2, 3} and {3, 4, 5}.\n",
        "set1 = {1, 2, 3}\n",
        "set2 = {3, 4, 5}\n",
        "union_set = set1.union(set2)\n",
        "print(\"The union of the sets is:\", union_set)\n"
      ],
      "metadata": {
        "colab": {
          "base_uri": "https://localhost:8080/"
        },
        "id": "yWj0EbOPHUXX",
        "outputId": "1751cece-acad-4552-aff3-58dfbbf62063"
      },
      "execution_count": 93,
      "outputs": [
        {
          "output_type": "stream",
          "name": "stdout",
          "text": [
            "The union of the sets is: {1, 2, 3, 4, 5}\n"
          ]
        }
      ]
    },
    {
      "cell_type": "code",
      "source": [
        "#22. Write a code to add a new key-value pair \"country\": \"USA\" to the dictionary {'name': 'John', 'age': 25}.\n",
        "person = {'name': 'John', 'age': 25}\n",
        "person['country'] = 'USA'\n",
        "print(\"Updated dictionary:\", person)\n"
      ],
      "metadata": {
        "colab": {
          "base_uri": "https://localhost:8080/"
        },
        "id": "dlB-uCw4HszF",
        "outputId": "036e4147-daa7-4615-9088-ca456c12d2c7"
      },
      "execution_count": 94,
      "outputs": [
        {
          "output_type": "stream",
          "name": "stdout",
          "text": [
            "Updated dictionary: {'name': 'John', 'age': 25, 'country': 'USA'}\n"
          ]
        }
      ]
    },
    {
      "cell_type": "code",
      "source": [
        "#25. Write a code to check if the key \"city\" exists in the dictionary {'name': 'Alice', 'city': 'Paris'}.\n",
        "person = {'name': 'Alice', 'city': 'Paris'}\n",
        "if 'city' in person:\n",
        "    print(\"The key 'city' exists in the dictionary.\")\n",
        "else:\n",
        "    print(\"The key 'city' does not exist in the dictionary.\")\n"
      ],
      "metadata": {
        "colab": {
          "base_uri": "https://localhost:8080/"
        },
        "id": "mXAdgQWAH-wQ",
        "outputId": "ce3db59d-4271-4917-9957-5bda5e29f07c"
      },
      "execution_count": 95,
      "outputs": [
        {
          "output_type": "stream",
          "name": "stdout",
          "text": [
            "The key 'city' exists in the dictionary.\n"
          ]
        }
      ]
    },
    {
      "cell_type": "code",
      "source": [
        "#26. Write a code to create a list, a tuple, and a dictionary, and print them all.\n",
        "my_list = [10, 20, 30]\n",
        "my_tuple = ('apple', 'banana', 'cherry')\n",
        "my_dict = {'name': 'Emma', 'age': 28}\n",
        "print(\"List:\", my_list)\n",
        "print(\"Tuple:\", my_tuple)\n",
        "print(\"Dictionary:\", my_dict)\n"
      ],
      "metadata": {
        "colab": {
          "base_uri": "https://localhost:8080/"
        },
        "id": "9Qzgvy3DISv8",
        "outputId": "7e70e653-1326-4090-8cc4-2c37e2f94b92"
      },
      "execution_count": 96,
      "outputs": [
        {
          "output_type": "stream",
          "name": "stdout",
          "text": [
            "List: [10, 20, 30]\n",
            "Tuple: ('apple', 'banana', 'cherry')\n",
            "Dictionary: {'name': 'Emma', 'age': 28}\n"
          ]
        }
      ]
    },
    {
      "cell_type": "code",
      "source": [
        "#29. Write a code to combine two dictionaries into one and print the result.\n",
        "\n"
      ],
      "metadata": {
        "id": "r_kJWaXTIlqe"
      },
      "execution_count": null,
      "outputs": []
    },
    {
      "cell_type": "code",
      "source": [],
      "metadata": {
        "id": "JDo0LDr9JKbp"
      },
      "execution_count": null,
      "outputs": []
    }
  ]
}